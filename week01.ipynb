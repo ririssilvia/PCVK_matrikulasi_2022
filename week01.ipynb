{
  "nbformat": 4,
  "nbformat_minor": 0,
  "metadata": {
    "colab": {
      "name": "week01.ipynb",
      "provenance": [],
      "authorship_tag": "ABX9TyOhj7uP8jw6CAmoud9BK13t",
      "include_colab_link": true
    },
    "kernelspec": {
      "name": "python3",
      "display_name": "Python 3"
    },
    "language_info": {
      "name": "python"
    }
  },
  "cells": [
    {
      "cell_type": "markdown",
      "metadata": {
        "id": "view-in-github",
        "colab_type": "text"
      },
      "source": [
        "<a href=\"https://colab.research.google.com/github/ririssilvia/PCVK_matrikulasi_2022/blob/main/week01.ipynb\" target=\"_parent\"><img src=\"https://colab.research.google.com/assets/colab-badge.svg\" alt=\"Open In Colab\"/></a>"
      ]
    },
    {
      "cell_type": "code",
      "execution_count": null,
      "metadata": {
        "id": "V9pz_rnrn797"
      },
      "outputs": [],
      "source": [
        ""
      ]
    }
  ]
}